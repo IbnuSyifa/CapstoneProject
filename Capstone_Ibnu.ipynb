{
  "nbformat": 4,
  "nbformat_minor": 0,
  "metadata": {
    "colab": {
      "provenance": [],
      "gpuType": "T4",
      "authorship_tag": "ABX9TyNb7k1YV0rd+6zEbDcacWL4",
      "include_colab_link": true
    },
    "kernelspec": {
      "name": "python3",
      "display_name": "Python 3"
    },
    "language_info": {
      "name": "python"
    },
    "accelerator": "GPU"
  },
  "cells": [
    {
      "cell_type": "markdown",
      "metadata": {
        "id": "view-in-github",
        "colab_type": "text"
      },
      "source": [
        "<a href=\"https://colab.research.google.com/github/IbnuSyifa/CapstoneProject/blob/main/Capstone_Ibnu.ipynb\" target=\"_parent\"><img src=\"https://colab.research.google.com/assets/colab-badge.svg\" alt=\"Open In Colab\"/></a>"
      ]
    },
    {
      "cell_type": "code",
      "execution_count": null,
      "metadata": {
        "id": "cbMiqcPkwMzy"
      },
      "outputs": [],
      "source": [
        "!pip install langchain_community\n",
        "\n",
        "!pip install replicate"
      ]
    },
    {
      "cell_type": "code",
      "source": [
        "from langchain_community.llms import Replicate\n",
        "import os\n",
        "import pandas as pd\n",
        "from google.colab import files\n",
        "from google.colab import userdata\n",
        "\n",
        "# Set the API token\n",
        "\n",
        "api_token = userdata.get('api_token')\n",
        "\n",
        "os.environ[\"REPLICATE_API_TOKEN\"] = api_token\n",
        "\n",
        "# Model setup\n",
        "\n",
        "model = \"ibm-granite/granite-3.3-8b-instruct\"\n",
        "\n",
        "output = Replicate(model=model,replicate_api_token=api_token,)\n",
        "\n",
        "# Upload file dari perangkat\n",
        "uploaded = files.upload()\n",
        "\n",
        "# Baca file CSV (asumsikan hanya satu file diunggah)\n",
        "for filename in uploaded.keys():\n",
        "    print(f\"Data dari {filename} berhasil dimuat:\")\n",
        "    df = pd.read_csv(filename)\n",
        "    print(df.head())"
      ],
      "metadata": {
        "id": "G742S5bHxvfr"
      },
      "execution_count": null,
      "outputs": []
    },
    {
      "cell_type": "code",
      "source": [
        "import pandas as pd\n",
        "\n",
        "if 'comment' not in df.columns:\n",
        "    raise ValueError(\"Kolom 'review' tidak ditemukan dalam dataset.\")\n",
        "\n",
        "\n",
        "user_comment = df['comment'].dropna().tolist()\n",
        "\n",
        "\n",
        "comment_text = \"\\n\".join([f\"Comment {i+1}: {comment}\" for i, comment in enumerate(user_comment)])\n",
        "\n",
        "prompt = f\"\"\"\n",
        "Classify the {comment_text} as 'Positive', 'Negative', or 'Neutral'. Give the reasons why.\n",
        "Show the results in a table format with table header: Comment Number, Classification, Comment, and Reason.\n",
        "{comment_text}\n",
        "\"\"\"\n",
        "\n",
        "response = output.invoke(prompt)\n",
        "\n",
        "print(\"Granite Model Response:\\n\")\n",
        "print(response)\n"
      ],
      "metadata": {
        "id": "goXRgjE-YN8e"
      },
      "execution_count": null,
      "outputs": []
    },
    {
      "cell_type": "code",
      "source": [
        "import pandas as pd\n",
        "from wordcloud import WordCloud\n",
        "import matplotlib.pyplot as plt\n",
        "\n",
        "df = pd.read_csv(filename)\n",
        "\n",
        "\n",
        "if 'comment' not in df.columns:\n",
        "    raise ValueError(\"Kolom 'comment' tidak ditemukan dalam dataset.\")\n",
        "\n",
        "# === Gabungkan semua teks review menjadi satu string ===\n",
        "text = \" \".join(comment_text for comment in df['comment'].dropna().astype(str))\n",
        "\n",
        "# === Membuat WordCloud ===\n",
        "wordcloud = WordCloud(width=800, height=400, background_color='white',\n",
        "                      max_words=200, colormap='viridis').generate(text)\n",
        "\n",
        "# === Tampilkan WordCloud ===\n",
        "plt.figure(figsize=(12, 6))\n",
        "plt.imshow(wordcloud, interpolation='bilinear')\n",
        "plt.axis('off')\n",
        "plt.title(\"WordCloud from Comment\", fontsize=16)\n",
        "plt.show()\n"
      ],
      "metadata": {
        "id": "tJ7r8T-8XEHm"
      },
      "execution_count": null,
      "outputs": []
    },
    {
      "cell_type": "code",
      "source": [
        "!pip install ace_tools"
      ],
      "metadata": {
        "id": "VVLO5Vv9bZUq"
      },
      "execution_count": null,
      "outputs": []
    },
    {
      "cell_type": "code",
      "source": [
        "import re\n",
        "from collections import Counter\n",
        "\n",
        "# Gabungkan semua komentar jadi satu string, lowercase, hapus URL/mention/punctuation\n",
        "text = \" \".join(df['comment'].dropna().astype(str)).lower()\n",
        "text = re.sub(r'http\\S+|@\\S+', '', text)\n",
        "text = re.sub(r'[^\\w\\s]', '', text)\n",
        "\n",
        "# Tokenisasi & filter stopwords sederhana\n",
        "words = text.split()\n",
        "stopwords = {\n",
        "    'yang','ini','dan','di','ke','dengan','untuk','gak','ga',\n",
        "    'aja','banget','ya','lho','nya','itu','the','make','america',\n",
        "    'great','again','all','yg','dari','jadi','ada'\n",
        "}\n",
        "filtered = [w for w in words if w not in stopwords and len(w) > 1]\n",
        "\n",
        "# Hitung frekuensi & ambil top 10\n",
        "common = Counter(filtered).most_common(10)\n",
        "df_common = pd.DataFrame(common, columns=['Word', 'Count'])\n",
        "\n",
        "# Tampilkan hasil di Colab\n",
        "from IPython.display import display\n",
        "print(\"Top 10 Most Frequent Words in Comments:\")\n",
        "display(df_common)"
      ],
      "metadata": {
        "id": "5Xcp4Mdha4qC"
      },
      "execution_count": null,
      "outputs": []
    },
    {
      "cell_type": "code",
      "source": [
        "print(comment_text)"
      ],
      "metadata": {
        "id": "4R0QTZMZ0LQo"
      },
      "execution_count": null,
      "outputs": []
    }
  ]
}